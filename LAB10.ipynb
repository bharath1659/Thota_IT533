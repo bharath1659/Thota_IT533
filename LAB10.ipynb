{
  "nbformat": 4,
  "nbformat_minor": 0,
  "metadata": {
    "colab": {
      "name": "LAB10.ipynb",
      "provenance": [],
      "authorship_tag": "ABX9TyO1T0BveeevIE/Fnlulq8wv",
      "include_colab_link": true
    },
    "kernelspec": {
      "name": "python3",
      "display_name": "Python 3"
    },
    "language_info": {
      "name": "python"
    }
  },
  "cells": [
    {
      "cell_type": "markdown",
      "metadata": {
        "id": "view-in-github",
        "colab_type": "text"
      },
      "source": [
        "<a href=\"https://colab.research.google.com/github/bharath1659/Thota_IT533/blob/main/LAB10.ipynb\" target=\"_parent\"><img src=\"https://colab.research.google.com/assets/colab-badge.svg\" alt=\"Open In Colab\"/></a>"
      ]
    },
    {
      "cell_type": "code",
      "execution_count": null,
      "metadata": {
        "colab": {
          "base_uri": "https://localhost:8080/"
        },
        "id": "4fw4QSbz3vT9",
        "outputId": "848ce5d9-1caf-41c1-856a-5a8b6f42e2ab"
      },
      "outputs": [
        {
          "output_type": "stream",
          "name": "stdout",
          "text": [
            "Current TensorFlow version is 2.8.2\n"
          ]
        }
      ],
      "source": [
        "import tensorflow as tf # This tells Colab that we are using TensorFlow\n",
        "\n",
        "from tensorflow import keras # This is the main TensorFlow library\n",
        "from tensorflow.keras import layers # We are building a Neural Network with several hidden layers\n",
        "from tensorflow.keras.layers.experimental import preprocessing\n",
        "from keras.models import Sequential\n",
        "from keras.layers import Dense\n",
        "\n",
        "print(\"Current TensorFlow version is\", tf.__version__)\n",
        "\n",
        "import numpy as np\n",
        "import pandas as pd \n",
        "import matplotlib.pyplot as plt\n",
        "import seaborn as sns # for visualization\n",
        "from sklearn.model_selection import train_test_split\n",
        "from sklearn.metrics import accuracy_score\n",
        "import warnings\n",
        "warnings.filterwarnings(\"ignore\")\n",
        "np.random.seed(42)  \n",
        "kick = pd.read_csv(\"https://raw.githubusercontent.com/shstreuber/Data-Mining/master/data/kickstarter-projects-201518.csv\", encoding=\"ISO-8859-1\")  #USE YOUR OWN GITHUB FILE\n",
        "kick = kick.rename(columns = {'usd pledged': 'usd_pledged'}) \n",
        "kick.dropna(inplace=True)"
      ]
    },
    {
      "cell_type": "code",
      "source": [
        "from numpy.ma.core import count\n",
        "# Downsizing the Dataset to just the numeric attributes\n",
        "kick_dl = pd.DataFrame(kick, columns = ['goal', 'pledged', 'backers','usd_pledged','usd_pledged_real','usd_goal_real','state'])\n",
        "kick_dl.head()\n",
        "kick.info()\n",
        "kick.shape\n",
        "print(kick.shape)\n",
        "x=len(kick)\n",
        "x\n"
      ],
      "metadata": {
        "colab": {
          "base_uri": "https://localhost:8080/"
        },
        "id": "zfpnY29Y3wQH",
        "outputId": "c3cbd6d9-6490-42f5-f7cd-8c2566d2e33e"
      },
      "execution_count": null,
      "outputs": [
        {
          "output_type": "stream",
          "name": "stdout",
          "text": [
            "<class 'pandas.core.frame.DataFrame'>\n",
            "Int64Index: 188445 entries, 0 to 191584\n",
            "Data columns (total 15 columns):\n",
            " #   Column            Non-Null Count   Dtype  \n",
            "---  ------            --------------   -----  \n",
            " 0   ID                188445 non-null  int64  \n",
            " 1   name              188445 non-null  object \n",
            " 2   category          188445 non-null  object \n",
            " 3   main_category     188445 non-null  object \n",
            " 4   currency          188445 non-null  object \n",
            " 5   deadline          188445 non-null  object \n",
            " 6   goal              188445 non-null  int64  \n",
            " 7   launched          188445 non-null  object \n",
            " 8   pledged           188445 non-null  float64\n",
            " 9   state             188445 non-null  object \n",
            " 10  backers           188445 non-null  int64  \n",
            " 11  country           188445 non-null  object \n",
            " 12  usd_pledged       188445 non-null  float64\n",
            " 13  usd_pledged_real  188445 non-null  float64\n",
            " 14  usd_goal_real     188445 non-null  float64\n",
            "dtypes: float64(4), int64(3), object(8)\n",
            "memory usage: 27.0+ MB\n",
            "(188445, 15)\n"
          ]
        },
        {
          "output_type": "execute_result",
          "data": {
            "text/plain": [
              "188445"
            ]
          },
          "metadata": {},
          "execution_count": 29
        }
      ]
    },
    {
      "cell_type": "code",
      "source": [
        "train_dataset = kick_dl.sample(frac=0.8, random_state=0)\n",
        "test_dataset = kick_dl.drop(train_dataset.index)\n",
        "train_features = train_dataset.copy()\n",
        "test_features = test_dataset.copy()\n",
        "\n",
        "train_labels = train_features.pop('state')\n",
        "test_labels = test_features.pop('state')"
      ],
      "metadata": {
        "id": "qTT4-8oAlMv8"
      },
      "execution_count": null,
      "outputs": []
    },
    {
      "cell_type": "code",
      "source": [
        "y=len(train_dataset)\n",
        "y"
      ],
      "metadata": {
        "colab": {
          "base_uri": "https://localhost:8080/"
        },
        "id": "iCeAMcBVoE5j",
        "outputId": "922d5fc8-66f1-4f6a-d15c-e823a1a05635"
      },
      "execution_count": null,
      "outputs": [
        {
          "output_type": "execute_result",
          "data": {
            "text/plain": [
              "150756"
            ]
          },
          "metadata": {},
          "execution_count": 39
        }
      ]
    },
    {
      "cell_type": "code",
      "source": [
        "train_labels.head()"
      ],
      "metadata": {
        "colab": {
          "base_uri": "https://localhost:8080/"
        },
        "id": "qGTxsqNf9OjA",
        "outputId": "82e077fe-0887-455a-edd7-d8bdbceb2d3b"
      },
      "execution_count": null,
      "outputs": [
        {
          "output_type": "execute_result",
          "data": {
            "text/plain": [
              "56984         failed\n",
              "190894          live\n",
              "103607        failed\n",
              "151480    successful\n",
              "113135        failed\n",
              "Name: state, dtype: object"
            ]
          },
          "metadata": {},
          "execution_count": 4
        }
      ]
    },
    {
      "cell_type": "code",
      "source": [
        "train_labels1 = pd.get_dummies(train_labels, columns=['state'], prefix='', prefix_sep='')\n",
        "normalizer = preprocessing.Normalization(axis=-1)\n",
        "normalizer.adapt(np.array(train_features))\n",
        "train_labels.head()"
      ],
      "metadata": {
        "colab": {
          "base_uri": "https://localhost:8080/"
        },
        "id": "paq3kjyZ9dLd",
        "outputId": "0c7aa393-9578-4a35-fdd1-c0bf20820e7d"
      },
      "execution_count": null,
      "outputs": [
        {
          "output_type": "execute_result",
          "data": {
            "text/plain": [
              "56984         failed\n",
              "190894          live\n",
              "103607        failed\n",
              "151480    successful\n",
              "113135        failed\n",
              "Name: state, dtype: object"
            ]
          },
          "metadata": {},
          "execution_count": 6
        }
      ]
    },
    {
      "cell_type": "code",
      "source": [
        "model = Sequential()\n",
        "model.add(Dense(12, input_dim=6, activation='relu'))\n",
        "model.add(Dense(8, activation='relu'))\n",
        "model.add(Dense(5, activation='softmax'))\n",
        "model.summary()"
      ],
      "metadata": {
        "colab": {
          "base_uri": "https://localhost:8080/"
        },
        "id": "Sc7WBdkqm7lN",
        "outputId": "473eb4e0-a4ab-4c59-f252-de26a93ed8c5"
      },
      "execution_count": null,
      "outputs": [
        {
          "output_type": "stream",
          "name": "stdout",
          "text": [
            "Model: \"sequential_12\"\n",
            "_________________________________________________________________\n",
            " Layer (type)                Output Shape              Param #   \n",
            "=================================================================\n",
            " dense_36 (Dense)            (None, 12)                84        \n",
            "                                                                 \n",
            " dense_37 (Dense)            (None, 8)                 104       \n",
            "                                                                 \n",
            " dense_38 (Dense)            (None, 5)                 45        \n",
            "                                                                 \n",
            "=================================================================\n",
            "Total params: 233\n",
            "Trainable params: 233\n",
            "Non-trainable params: 0\n",
            "_________________________________________________________________\n"
          ]
        }
      ]
    }
  ]
}
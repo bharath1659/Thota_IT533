{
  "nbformat": 4,
  "nbformat_minor": 0,
  "metadata": {
    "colab": {
      "name": "MosquitoTestResults.ipynb",
      "provenance": [],
      "authorship_tag": "ABX9TyMCrdOPnC5hlk7SUDotTeqQ",
      "include_colab_link": true
    },
    "kernelspec": {
      "name": "python3",
      "display_name": "Python 3"
    },
    "language_info": {
      "name": "python"
    }
  },
  "cells": [
    {
      "cell_type": "markdown",
      "metadata": {
        "id": "view-in-github",
        "colab_type": "text"
      },
      "source": [
        "<a href=\"https://colab.research.google.com/github/bharath1659/Thota_IT533/blob/main/MosquitoTestResults.ipynb\" target=\"_parent\"><img src=\"https://colab.research.google.com/assets/colab-badge.svg\" alt=\"Open In Colab\"/></a>"
      ]
    },
    {
      "cell_type": "code",
      "execution_count": 61,
      "metadata": {
        "colab": {
          "base_uri": "https://localhost:8080/",
          "height": 372
        },
        "id": "teZUO5E6uVeD",
        "outputId": "b518bcf0-8be2-42a4-a38e-131f8a944730"
      },
      "outputs": [
        {
          "output_type": "stream",
          "name": "stdout",
          "text": [
            "Current TensorFlow version is 2.8.2\n"
          ]
        },
        {
          "output_type": "execute_result",
          "data": {
            "text/plain": [
              "   SEASON YEAR  WEEK  TEST ID                  BLOCK  TRAP TRAP_TYPE  \\\n",
              "0         2014    39    40542  100XX W OHARE AIRPORT  T902    GRAVID   \n",
              "1         2016    37    44219  100XX W OHARE AIRPORT  T902    GRAVID   \n",
              "2         2017    33    45351  100XX W OHARE AIRPORT  T905    GRAVID   \n",
              "3         2017    33    45345  100XX W OHARE AIRPORT  T900    GRAVID   \n",
              "4         2016    37    44169            4XX W 127TH  T135    GRAVID   \n",
              "\n",
              "                TEST DATE  NUMBER OF MOSQUITOES    RESULT  \\\n",
              "0  09/25/2014 12:09:00 AM                     8  negative   \n",
              "1  09/15/2016 12:09:00 AM                    39  negative   \n",
              "2  08/17/2017 12:08:00 AM                    50  positive   \n",
              "3  08/17/2017 12:08:00 AM                    17  positive   \n",
              "4  09/15/2016 12:09:00 AM                    12  negative   \n",
              "\n",
              "                  SPECIES  LATITUDE  LONGITUDE LOCATION  \n",
              "0  CULEX PIPIENS/RESTUANS       NaN        NaN      NaN  \n",
              "1  CULEX PIPIENS/RESTUANS       NaN        NaN      NaN  \n",
              "2  CULEX PIPIENS/RESTUANS       NaN        NaN      NaN  \n",
              "3  CULEX PIPIENS/RESTUANS       NaN        NaN      NaN  \n",
              "4  CULEX PIPIENS/RESTUANS       NaN        NaN      NaN  "
            ],
            "text/html": [
              "\n",
              "  <div id=\"df-4a50bdb0-7032-4fe6-9598-c6585ebd17ea\">\n",
              "    <div class=\"colab-df-container\">\n",
              "      <div>\n",
              "<style scoped>\n",
              "    .dataframe tbody tr th:only-of-type {\n",
              "        vertical-align: middle;\n",
              "    }\n",
              "\n",
              "    .dataframe tbody tr th {\n",
              "        vertical-align: top;\n",
              "    }\n",
              "\n",
              "    .dataframe thead th {\n",
              "        text-align: right;\n",
              "    }\n",
              "</style>\n",
              "<table border=\"1\" class=\"dataframe\">\n",
              "  <thead>\n",
              "    <tr style=\"text-align: right;\">\n",
              "      <th></th>\n",
              "      <th>SEASON YEAR</th>\n",
              "      <th>WEEK</th>\n",
              "      <th>TEST ID</th>\n",
              "      <th>BLOCK</th>\n",
              "      <th>TRAP</th>\n",
              "      <th>TRAP_TYPE</th>\n",
              "      <th>TEST DATE</th>\n",
              "      <th>NUMBER OF MOSQUITOES</th>\n",
              "      <th>RESULT</th>\n",
              "      <th>SPECIES</th>\n",
              "      <th>LATITUDE</th>\n",
              "      <th>LONGITUDE</th>\n",
              "      <th>LOCATION</th>\n",
              "    </tr>\n",
              "  </thead>\n",
              "  <tbody>\n",
              "    <tr>\n",
              "      <th>0</th>\n",
              "      <td>2014</td>\n",
              "      <td>39</td>\n",
              "      <td>40542</td>\n",
              "      <td>100XX W OHARE AIRPORT</td>\n",
              "      <td>T902</td>\n",
              "      <td>GRAVID</td>\n",
              "      <td>09/25/2014 12:09:00 AM</td>\n",
              "      <td>8</td>\n",
              "      <td>negative</td>\n",
              "      <td>CULEX PIPIENS/RESTUANS</td>\n",
              "      <td>NaN</td>\n",
              "      <td>NaN</td>\n",
              "      <td>NaN</td>\n",
              "    </tr>\n",
              "    <tr>\n",
              "      <th>1</th>\n",
              "      <td>2016</td>\n",
              "      <td>37</td>\n",
              "      <td>44219</td>\n",
              "      <td>100XX W OHARE AIRPORT</td>\n",
              "      <td>T902</td>\n",
              "      <td>GRAVID</td>\n",
              "      <td>09/15/2016 12:09:00 AM</td>\n",
              "      <td>39</td>\n",
              "      <td>negative</td>\n",
              "      <td>CULEX PIPIENS/RESTUANS</td>\n",
              "      <td>NaN</td>\n",
              "      <td>NaN</td>\n",
              "      <td>NaN</td>\n",
              "    </tr>\n",
              "    <tr>\n",
              "      <th>2</th>\n",
              "      <td>2017</td>\n",
              "      <td>33</td>\n",
              "      <td>45351</td>\n",
              "      <td>100XX W OHARE AIRPORT</td>\n",
              "      <td>T905</td>\n",
              "      <td>GRAVID</td>\n",
              "      <td>08/17/2017 12:08:00 AM</td>\n",
              "      <td>50</td>\n",
              "      <td>positive</td>\n",
              "      <td>CULEX PIPIENS/RESTUANS</td>\n",
              "      <td>NaN</td>\n",
              "      <td>NaN</td>\n",
              "      <td>NaN</td>\n",
              "    </tr>\n",
              "    <tr>\n",
              "      <th>3</th>\n",
              "      <td>2017</td>\n",
              "      <td>33</td>\n",
              "      <td>45345</td>\n",
              "      <td>100XX W OHARE AIRPORT</td>\n",
              "      <td>T900</td>\n",
              "      <td>GRAVID</td>\n",
              "      <td>08/17/2017 12:08:00 AM</td>\n",
              "      <td>17</td>\n",
              "      <td>positive</td>\n",
              "      <td>CULEX PIPIENS/RESTUANS</td>\n",
              "      <td>NaN</td>\n",
              "      <td>NaN</td>\n",
              "      <td>NaN</td>\n",
              "    </tr>\n",
              "    <tr>\n",
              "      <th>4</th>\n",
              "      <td>2016</td>\n",
              "      <td>37</td>\n",
              "      <td>44169</td>\n",
              "      <td>4XX W 127TH</td>\n",
              "      <td>T135</td>\n",
              "      <td>GRAVID</td>\n",
              "      <td>09/15/2016 12:09:00 AM</td>\n",
              "      <td>12</td>\n",
              "      <td>negative</td>\n",
              "      <td>CULEX PIPIENS/RESTUANS</td>\n",
              "      <td>NaN</td>\n",
              "      <td>NaN</td>\n",
              "      <td>NaN</td>\n",
              "    </tr>\n",
              "  </tbody>\n",
              "</table>\n",
              "</div>\n",
              "      <button class=\"colab-df-convert\" onclick=\"convertToInteractive('df-4a50bdb0-7032-4fe6-9598-c6585ebd17ea')\"\n",
              "              title=\"Convert this dataframe to an interactive table.\"\n",
              "              style=\"display:none;\">\n",
              "        \n",
              "  <svg xmlns=\"http://www.w3.org/2000/svg\" height=\"24px\"viewBox=\"0 0 24 24\"\n",
              "       width=\"24px\">\n",
              "    <path d=\"M0 0h24v24H0V0z\" fill=\"none\"/>\n",
              "    <path d=\"M18.56 5.44l.94 2.06.94-2.06 2.06-.94-2.06-.94-.94-2.06-.94 2.06-2.06.94zm-11 1L8.5 8.5l.94-2.06 2.06-.94-2.06-.94L8.5 2.5l-.94 2.06-2.06.94zm10 10l.94 2.06.94-2.06 2.06-.94-2.06-.94-.94-2.06-.94 2.06-2.06.94z\"/><path d=\"M17.41 7.96l-1.37-1.37c-.4-.4-.92-.59-1.43-.59-.52 0-1.04.2-1.43.59L10.3 9.45l-7.72 7.72c-.78.78-.78 2.05 0 2.83L4 21.41c.39.39.9.59 1.41.59.51 0 1.02-.2 1.41-.59l7.78-7.78 2.81-2.81c.8-.78.8-2.07 0-2.86zM5.41 20L4 18.59l7.72-7.72 1.47 1.35L5.41 20z\"/>\n",
              "  </svg>\n",
              "      </button>\n",
              "      \n",
              "  <style>\n",
              "    .colab-df-container {\n",
              "      display:flex;\n",
              "      flex-wrap:wrap;\n",
              "      gap: 12px;\n",
              "    }\n",
              "\n",
              "    .colab-df-convert {\n",
              "      background-color: #E8F0FE;\n",
              "      border: none;\n",
              "      border-radius: 50%;\n",
              "      cursor: pointer;\n",
              "      display: none;\n",
              "      fill: #1967D2;\n",
              "      height: 32px;\n",
              "      padding: 0 0 0 0;\n",
              "      width: 32px;\n",
              "    }\n",
              "\n",
              "    .colab-df-convert:hover {\n",
              "      background-color: #E2EBFA;\n",
              "      box-shadow: 0px 1px 2px rgba(60, 64, 67, 0.3), 0px 1px 3px 1px rgba(60, 64, 67, 0.15);\n",
              "      fill: #174EA6;\n",
              "    }\n",
              "\n",
              "    [theme=dark] .colab-df-convert {\n",
              "      background-color: #3B4455;\n",
              "      fill: #D2E3FC;\n",
              "    }\n",
              "\n",
              "    [theme=dark] .colab-df-convert:hover {\n",
              "      background-color: #434B5C;\n",
              "      box-shadow: 0px 1px 3px 1px rgba(0, 0, 0, 0.15);\n",
              "      filter: drop-shadow(0px 1px 2px rgba(0, 0, 0, 0.3));\n",
              "      fill: #FFFFFF;\n",
              "    }\n",
              "  </style>\n",
              "\n",
              "      <script>\n",
              "        const buttonEl =\n",
              "          document.querySelector('#df-4a50bdb0-7032-4fe6-9598-c6585ebd17ea button.colab-df-convert');\n",
              "        buttonEl.style.display =\n",
              "          google.colab.kernel.accessAllowed ? 'block' : 'none';\n",
              "\n",
              "        async function convertToInteractive(key) {\n",
              "          const element = document.querySelector('#df-4a50bdb0-7032-4fe6-9598-c6585ebd17ea');\n",
              "          const dataTable =\n",
              "            await google.colab.kernel.invokeFunction('convertToInteractive',\n",
              "                                                     [key], {});\n",
              "          if (!dataTable) return;\n",
              "\n",
              "          const docLinkHtml = 'Like what you see? Visit the ' +\n",
              "            '<a target=\"_blank\" href=https://colab.research.google.com/notebooks/data_table.ipynb>data table notebook</a>'\n",
              "            + ' to learn more about interactive tables.';\n",
              "          element.innerHTML = '';\n",
              "          dataTable['output_type'] = 'display_data';\n",
              "          await google.colab.output.renderOutput(dataTable, element);\n",
              "          const docLink = document.createElement('div');\n",
              "          docLink.innerHTML = docLinkHtml;\n",
              "          element.appendChild(docLink);\n",
              "        }\n",
              "      </script>\n",
              "    </div>\n",
              "  </div>\n",
              "  "
            ]
          },
          "metadata": {},
          "execution_count": 61
        }
      ],
      "source": [
        "import tensorflow as tf # This tells Colab that we are using TensorFlow\n",
        "from tensorflow import keras # This is the main TensorFlow library\n",
        "from tensorflow.keras import layers # We are building a Neural Network with several hidden layers\n",
        "from tensorflow.keras.layers.experimental import preprocessing\n",
        "from keras.models import Sequential\n",
        "from keras.layers import Dense\n",
        "\n",
        "print(\"Current TensorFlow version is\", tf.__version__)\n",
        "\n",
        "import numpy as np\n",
        "import pandas as pd \n",
        "import matplotlib.pyplot as plt\n",
        "import seaborn as sns # for visualization\n",
        "from sklearn.model_selection import train_test_split\n",
        "from sklearn.preprocessing import StandardScaler\n",
        "from sklearn.preprocessing import MinMaxScaler\n",
        "from sklearn.metrics import accuracy_score\n",
        "from sklearn.metrics import confusion_matrix \n",
        "from sklearn.metrics import plot_confusion_matrix \n",
        "from sklearn.metrics import classification_report \n",
        "from sklearn.metrics import multilabel_confusion_matrix\n",
        "import warnings\n",
        "warnings.filterwarnings(\"ignore\")\n",
        "np.random.seed(42)\n",
        "\n",
        "#Reading in the data as adult dataframe\n",
        "mosquito = pd.read_csv(\"https://raw.githubusercontent.com/shstreuber/Data-Mining/master/data/West_Nile_Virus__WNV__Mosquito_Test_Results.csv\")\n",
        "mosquito.head()"
      ]
    },
    {
      "cell_type": "code",
      "source": [
        "mosquito['RESULT'].replace(['positive', 'negative'],\n",
        "                        [0, 1], inplace=True)"
      ],
      "metadata": {
        "id": "dsh8fanU0tUG"
      },
      "execution_count": 62,
      "outputs": []
    },
    {
      "cell_type": "code",
      "source": [
        "mosquito.head()"
      ],
      "metadata": {
        "colab": {
          "base_uri": "https://localhost:8080/",
          "height": 354
        },
        "id": "TkjXUrok1Tm_",
        "outputId": "ec3bd126-4802-451e-cd50-31455712bf83"
      },
      "execution_count": 63,
      "outputs": [
        {
          "output_type": "execute_result",
          "data": {
            "text/plain": [
              "   SEASON YEAR  WEEK  TEST ID                  BLOCK  TRAP TRAP_TYPE  \\\n",
              "0         2014    39    40542  100XX W OHARE AIRPORT  T902    GRAVID   \n",
              "1         2016    37    44219  100XX W OHARE AIRPORT  T902    GRAVID   \n",
              "2         2017    33    45351  100XX W OHARE AIRPORT  T905    GRAVID   \n",
              "3         2017    33    45345  100XX W OHARE AIRPORT  T900    GRAVID   \n",
              "4         2016    37    44169            4XX W 127TH  T135    GRAVID   \n",
              "\n",
              "                TEST DATE  NUMBER OF MOSQUITOES  RESULT  \\\n",
              "0  09/25/2014 12:09:00 AM                     8       1   \n",
              "1  09/15/2016 12:09:00 AM                    39       1   \n",
              "2  08/17/2017 12:08:00 AM                    50       0   \n",
              "3  08/17/2017 12:08:00 AM                    17       0   \n",
              "4  09/15/2016 12:09:00 AM                    12       1   \n",
              "\n",
              "                  SPECIES  LATITUDE  LONGITUDE LOCATION  \n",
              "0  CULEX PIPIENS/RESTUANS       NaN        NaN      NaN  \n",
              "1  CULEX PIPIENS/RESTUANS       NaN        NaN      NaN  \n",
              "2  CULEX PIPIENS/RESTUANS       NaN        NaN      NaN  \n",
              "3  CULEX PIPIENS/RESTUANS       NaN        NaN      NaN  \n",
              "4  CULEX PIPIENS/RESTUANS       NaN        NaN      NaN  "
            ],
            "text/html": [
              "\n",
              "  <div id=\"df-c1dc79ef-4ce5-4fc3-b7c2-584286120ca9\">\n",
              "    <div class=\"colab-df-container\">\n",
              "      <div>\n",
              "<style scoped>\n",
              "    .dataframe tbody tr th:only-of-type {\n",
              "        vertical-align: middle;\n",
              "    }\n",
              "\n",
              "    .dataframe tbody tr th {\n",
              "        vertical-align: top;\n",
              "    }\n",
              "\n",
              "    .dataframe thead th {\n",
              "        text-align: right;\n",
              "    }\n",
              "</style>\n",
              "<table border=\"1\" class=\"dataframe\">\n",
              "  <thead>\n",
              "    <tr style=\"text-align: right;\">\n",
              "      <th></th>\n",
              "      <th>SEASON YEAR</th>\n",
              "      <th>WEEK</th>\n",
              "      <th>TEST ID</th>\n",
              "      <th>BLOCK</th>\n",
              "      <th>TRAP</th>\n",
              "      <th>TRAP_TYPE</th>\n",
              "      <th>TEST DATE</th>\n",
              "      <th>NUMBER OF MOSQUITOES</th>\n",
              "      <th>RESULT</th>\n",
              "      <th>SPECIES</th>\n",
              "      <th>LATITUDE</th>\n",
              "      <th>LONGITUDE</th>\n",
              "      <th>LOCATION</th>\n",
              "    </tr>\n",
              "  </thead>\n",
              "  <tbody>\n",
              "    <tr>\n",
              "      <th>0</th>\n",
              "      <td>2014</td>\n",
              "      <td>39</td>\n",
              "      <td>40542</td>\n",
              "      <td>100XX W OHARE AIRPORT</td>\n",
              "      <td>T902</td>\n",
              "      <td>GRAVID</td>\n",
              "      <td>09/25/2014 12:09:00 AM</td>\n",
              "      <td>8</td>\n",
              "      <td>1</td>\n",
              "      <td>CULEX PIPIENS/RESTUANS</td>\n",
              "      <td>NaN</td>\n",
              "      <td>NaN</td>\n",
              "      <td>NaN</td>\n",
              "    </tr>\n",
              "    <tr>\n",
              "      <th>1</th>\n",
              "      <td>2016</td>\n",
              "      <td>37</td>\n",
              "      <td>44219</td>\n",
              "      <td>100XX W OHARE AIRPORT</td>\n",
              "      <td>T902</td>\n",
              "      <td>GRAVID</td>\n",
              "      <td>09/15/2016 12:09:00 AM</td>\n",
              "      <td>39</td>\n",
              "      <td>1</td>\n",
              "      <td>CULEX PIPIENS/RESTUANS</td>\n",
              "      <td>NaN</td>\n",
              "      <td>NaN</td>\n",
              "      <td>NaN</td>\n",
              "    </tr>\n",
              "    <tr>\n",
              "      <th>2</th>\n",
              "      <td>2017</td>\n",
              "      <td>33</td>\n",
              "      <td>45351</td>\n",
              "      <td>100XX W OHARE AIRPORT</td>\n",
              "      <td>T905</td>\n",
              "      <td>GRAVID</td>\n",
              "      <td>08/17/2017 12:08:00 AM</td>\n",
              "      <td>50</td>\n",
              "      <td>0</td>\n",
              "      <td>CULEX PIPIENS/RESTUANS</td>\n",
              "      <td>NaN</td>\n",
              "      <td>NaN</td>\n",
              "      <td>NaN</td>\n",
              "    </tr>\n",
              "    <tr>\n",
              "      <th>3</th>\n",
              "      <td>2017</td>\n",
              "      <td>33</td>\n",
              "      <td>45345</td>\n",
              "      <td>100XX W OHARE AIRPORT</td>\n",
              "      <td>T900</td>\n",
              "      <td>GRAVID</td>\n",
              "      <td>08/17/2017 12:08:00 AM</td>\n",
              "      <td>17</td>\n",
              "      <td>0</td>\n",
              "      <td>CULEX PIPIENS/RESTUANS</td>\n",
              "      <td>NaN</td>\n",
              "      <td>NaN</td>\n",
              "      <td>NaN</td>\n",
              "    </tr>\n",
              "    <tr>\n",
              "      <th>4</th>\n",
              "      <td>2016</td>\n",
              "      <td>37</td>\n",
              "      <td>44169</td>\n",
              "      <td>4XX W 127TH</td>\n",
              "      <td>T135</td>\n",
              "      <td>GRAVID</td>\n",
              "      <td>09/15/2016 12:09:00 AM</td>\n",
              "      <td>12</td>\n",
              "      <td>1</td>\n",
              "      <td>CULEX PIPIENS/RESTUANS</td>\n",
              "      <td>NaN</td>\n",
              "      <td>NaN</td>\n",
              "      <td>NaN</td>\n",
              "    </tr>\n",
              "  </tbody>\n",
              "</table>\n",
              "</div>\n",
              "      <button class=\"colab-df-convert\" onclick=\"convertToInteractive('df-c1dc79ef-4ce5-4fc3-b7c2-584286120ca9')\"\n",
              "              title=\"Convert this dataframe to an interactive table.\"\n",
              "              style=\"display:none;\">\n",
              "        \n",
              "  <svg xmlns=\"http://www.w3.org/2000/svg\" height=\"24px\"viewBox=\"0 0 24 24\"\n",
              "       width=\"24px\">\n",
              "    <path d=\"M0 0h24v24H0V0z\" fill=\"none\"/>\n",
              "    <path d=\"M18.56 5.44l.94 2.06.94-2.06 2.06-.94-2.06-.94-.94-2.06-.94 2.06-2.06.94zm-11 1L8.5 8.5l.94-2.06 2.06-.94-2.06-.94L8.5 2.5l-.94 2.06-2.06.94zm10 10l.94 2.06.94-2.06 2.06-.94-2.06-.94-.94-2.06-.94 2.06-2.06.94z\"/><path d=\"M17.41 7.96l-1.37-1.37c-.4-.4-.92-.59-1.43-.59-.52 0-1.04.2-1.43.59L10.3 9.45l-7.72 7.72c-.78.78-.78 2.05 0 2.83L4 21.41c.39.39.9.59 1.41.59.51 0 1.02-.2 1.41-.59l7.78-7.78 2.81-2.81c.8-.78.8-2.07 0-2.86zM5.41 20L4 18.59l7.72-7.72 1.47 1.35L5.41 20z\"/>\n",
              "  </svg>\n",
              "      </button>\n",
              "      \n",
              "  <style>\n",
              "    .colab-df-container {\n",
              "      display:flex;\n",
              "      flex-wrap:wrap;\n",
              "      gap: 12px;\n",
              "    }\n",
              "\n",
              "    .colab-df-convert {\n",
              "      background-color: #E8F0FE;\n",
              "      border: none;\n",
              "      border-radius: 50%;\n",
              "      cursor: pointer;\n",
              "      display: none;\n",
              "      fill: #1967D2;\n",
              "      height: 32px;\n",
              "      padding: 0 0 0 0;\n",
              "      width: 32px;\n",
              "    }\n",
              "\n",
              "    .colab-df-convert:hover {\n",
              "      background-color: #E2EBFA;\n",
              "      box-shadow: 0px 1px 2px rgba(60, 64, 67, 0.3), 0px 1px 3px 1px rgba(60, 64, 67, 0.15);\n",
              "      fill: #174EA6;\n",
              "    }\n",
              "\n",
              "    [theme=dark] .colab-df-convert {\n",
              "      background-color: #3B4455;\n",
              "      fill: #D2E3FC;\n",
              "    }\n",
              "\n",
              "    [theme=dark] .colab-df-convert:hover {\n",
              "      background-color: #434B5C;\n",
              "      box-shadow: 0px 1px 3px 1px rgba(0, 0, 0, 0.15);\n",
              "      filter: drop-shadow(0px 1px 2px rgba(0, 0, 0, 0.3));\n",
              "      fill: #FFFFFF;\n",
              "    }\n",
              "  </style>\n",
              "\n",
              "      <script>\n",
              "        const buttonEl =\n",
              "          document.querySelector('#df-c1dc79ef-4ce5-4fc3-b7c2-584286120ca9 button.colab-df-convert');\n",
              "        buttonEl.style.display =\n",
              "          google.colab.kernel.accessAllowed ? 'block' : 'none';\n",
              "\n",
              "        async function convertToInteractive(key) {\n",
              "          const element = document.querySelector('#df-c1dc79ef-4ce5-4fc3-b7c2-584286120ca9');\n",
              "          const dataTable =\n",
              "            await google.colab.kernel.invokeFunction('convertToInteractive',\n",
              "                                                     [key], {});\n",
              "          if (!dataTable) return;\n",
              "\n",
              "          const docLinkHtml = 'Like what you see? Visit the ' +\n",
              "            '<a target=\"_blank\" href=https://colab.research.google.com/notebooks/data_table.ipynb>data table notebook</a>'\n",
              "            + ' to learn more about interactive tables.';\n",
              "          element.innerHTML = '';\n",
              "          dataTable['output_type'] = 'display_data';\n",
              "          await google.colab.output.renderOutput(dataTable, element);\n",
              "          const docLink = document.createElement('div');\n",
              "          docLink.innerHTML = docLinkHtml;\n",
              "          element.appendChild(docLink);\n",
              "        }\n",
              "      </script>\n",
              "    </div>\n",
              "  </div>\n",
              "  "
            ]
          },
          "metadata": {},
          "execution_count": 63
        }
      ]
    },
    {
      "cell_type": "code",
      "source": [
        "mosquito.describe()"
      ],
      "metadata": {
        "colab": {
          "base_uri": "https://localhost:8080/",
          "height": 300
        },
        "id": "LU88thCw11Ql",
        "outputId": "d5dcfd7a-ab3d-4995-8bbd-17f3a2d1a9a4"
      },
      "execution_count": 64,
      "outputs": [
        {
          "output_type": "execute_result",
          "data": {
            "text/plain": [
              "        SEASON YEAR          WEEK       TEST ID  NUMBER OF MOSQUITOES  \\\n",
              "count  29489.000000  29489.000000  29489.000000          29489.000000   \n",
              "mean    2012.502018     31.073587  35155.917156             12.353827   \n",
              "std        3.802700      4.533390   8630.314684             15.261187   \n",
              "min     2007.000000     20.000000  20000.000000              1.000000   \n",
              "25%     2009.000000     28.000000  27718.000000              2.000000   \n",
              "50%     2012.000000     31.000000  35150.000000              5.000000   \n",
              "75%     2016.000000     35.000000  42641.000000             16.000000   \n",
              "max     2019.000000     40.000000  50029.000000             77.000000   \n",
              "\n",
              "             RESULT      LATITUDE     LONGITUDE  \n",
              "count  29489.000000  25073.000000  25073.000000  \n",
              "mean       0.915630     41.836094    -87.687875  \n",
              "std        0.277947      0.112719      0.076802  \n",
              "min        0.000000     41.644720    -87.854473  \n",
              "25%        1.000000     41.731447    -87.745420  \n",
              "50%        1.000000     41.825398    -87.689417  \n",
              "75%        1.000000     41.941991    -87.632955  \n",
              "max        1.000000     42.017801    -87.531060  "
            ],
            "text/html": [
              "\n",
              "  <div id=\"df-bb818547-a699-40df-88d4-68bf91e9e24b\">\n",
              "    <div class=\"colab-df-container\">\n",
              "      <div>\n",
              "<style scoped>\n",
              "    .dataframe tbody tr th:only-of-type {\n",
              "        vertical-align: middle;\n",
              "    }\n",
              "\n",
              "    .dataframe tbody tr th {\n",
              "        vertical-align: top;\n",
              "    }\n",
              "\n",
              "    .dataframe thead th {\n",
              "        text-align: right;\n",
              "    }\n",
              "</style>\n",
              "<table border=\"1\" class=\"dataframe\">\n",
              "  <thead>\n",
              "    <tr style=\"text-align: right;\">\n",
              "      <th></th>\n",
              "      <th>SEASON YEAR</th>\n",
              "      <th>WEEK</th>\n",
              "      <th>TEST ID</th>\n",
              "      <th>NUMBER OF MOSQUITOES</th>\n",
              "      <th>RESULT</th>\n",
              "      <th>LATITUDE</th>\n",
              "      <th>LONGITUDE</th>\n",
              "    </tr>\n",
              "  </thead>\n",
              "  <tbody>\n",
              "    <tr>\n",
              "      <th>count</th>\n",
              "      <td>29489.000000</td>\n",
              "      <td>29489.000000</td>\n",
              "      <td>29489.000000</td>\n",
              "      <td>29489.000000</td>\n",
              "      <td>29489.000000</td>\n",
              "      <td>25073.000000</td>\n",
              "      <td>25073.000000</td>\n",
              "    </tr>\n",
              "    <tr>\n",
              "      <th>mean</th>\n",
              "      <td>2012.502018</td>\n",
              "      <td>31.073587</td>\n",
              "      <td>35155.917156</td>\n",
              "      <td>12.353827</td>\n",
              "      <td>0.915630</td>\n",
              "      <td>41.836094</td>\n",
              "      <td>-87.687875</td>\n",
              "    </tr>\n",
              "    <tr>\n",
              "      <th>std</th>\n",
              "      <td>3.802700</td>\n",
              "      <td>4.533390</td>\n",
              "      <td>8630.314684</td>\n",
              "      <td>15.261187</td>\n",
              "      <td>0.277947</td>\n",
              "      <td>0.112719</td>\n",
              "      <td>0.076802</td>\n",
              "    </tr>\n",
              "    <tr>\n",
              "      <th>min</th>\n",
              "      <td>2007.000000</td>\n",
              "      <td>20.000000</td>\n",
              "      <td>20000.000000</td>\n",
              "      <td>1.000000</td>\n",
              "      <td>0.000000</td>\n",
              "      <td>41.644720</td>\n",
              "      <td>-87.854473</td>\n",
              "    </tr>\n",
              "    <tr>\n",
              "      <th>25%</th>\n",
              "      <td>2009.000000</td>\n",
              "      <td>28.000000</td>\n",
              "      <td>27718.000000</td>\n",
              "      <td>2.000000</td>\n",
              "      <td>1.000000</td>\n",
              "      <td>41.731447</td>\n",
              "      <td>-87.745420</td>\n",
              "    </tr>\n",
              "    <tr>\n",
              "      <th>50%</th>\n",
              "      <td>2012.000000</td>\n",
              "      <td>31.000000</td>\n",
              "      <td>35150.000000</td>\n",
              "      <td>5.000000</td>\n",
              "      <td>1.000000</td>\n",
              "      <td>41.825398</td>\n",
              "      <td>-87.689417</td>\n",
              "    </tr>\n",
              "    <tr>\n",
              "      <th>75%</th>\n",
              "      <td>2016.000000</td>\n",
              "      <td>35.000000</td>\n",
              "      <td>42641.000000</td>\n",
              "      <td>16.000000</td>\n",
              "      <td>1.000000</td>\n",
              "      <td>41.941991</td>\n",
              "      <td>-87.632955</td>\n",
              "    </tr>\n",
              "    <tr>\n",
              "      <th>max</th>\n",
              "      <td>2019.000000</td>\n",
              "      <td>40.000000</td>\n",
              "      <td>50029.000000</td>\n",
              "      <td>77.000000</td>\n",
              "      <td>1.000000</td>\n",
              "      <td>42.017801</td>\n",
              "      <td>-87.531060</td>\n",
              "    </tr>\n",
              "  </tbody>\n",
              "</table>\n",
              "</div>\n",
              "      <button class=\"colab-df-convert\" onclick=\"convertToInteractive('df-bb818547-a699-40df-88d4-68bf91e9e24b')\"\n",
              "              title=\"Convert this dataframe to an interactive table.\"\n",
              "              style=\"display:none;\">\n",
              "        \n",
              "  <svg xmlns=\"http://www.w3.org/2000/svg\" height=\"24px\"viewBox=\"0 0 24 24\"\n",
              "       width=\"24px\">\n",
              "    <path d=\"M0 0h24v24H0V0z\" fill=\"none\"/>\n",
              "    <path d=\"M18.56 5.44l.94 2.06.94-2.06 2.06-.94-2.06-.94-.94-2.06-.94 2.06-2.06.94zm-11 1L8.5 8.5l.94-2.06 2.06-.94-2.06-.94L8.5 2.5l-.94 2.06-2.06.94zm10 10l.94 2.06.94-2.06 2.06-.94-2.06-.94-.94-2.06-.94 2.06-2.06.94z\"/><path d=\"M17.41 7.96l-1.37-1.37c-.4-.4-.92-.59-1.43-.59-.52 0-1.04.2-1.43.59L10.3 9.45l-7.72 7.72c-.78.78-.78 2.05 0 2.83L4 21.41c.39.39.9.59 1.41.59.51 0 1.02-.2 1.41-.59l7.78-7.78 2.81-2.81c.8-.78.8-2.07 0-2.86zM5.41 20L4 18.59l7.72-7.72 1.47 1.35L5.41 20z\"/>\n",
              "  </svg>\n",
              "      </button>\n",
              "      \n",
              "  <style>\n",
              "    .colab-df-container {\n",
              "      display:flex;\n",
              "      flex-wrap:wrap;\n",
              "      gap: 12px;\n",
              "    }\n",
              "\n",
              "    .colab-df-convert {\n",
              "      background-color: #E8F0FE;\n",
              "      border: none;\n",
              "      border-radius: 50%;\n",
              "      cursor: pointer;\n",
              "      display: none;\n",
              "      fill: #1967D2;\n",
              "      height: 32px;\n",
              "      padding: 0 0 0 0;\n",
              "      width: 32px;\n",
              "    }\n",
              "\n",
              "    .colab-df-convert:hover {\n",
              "      background-color: #E2EBFA;\n",
              "      box-shadow: 0px 1px 2px rgba(60, 64, 67, 0.3), 0px 1px 3px 1px rgba(60, 64, 67, 0.15);\n",
              "      fill: #174EA6;\n",
              "    }\n",
              "\n",
              "    [theme=dark] .colab-df-convert {\n",
              "      background-color: #3B4455;\n",
              "      fill: #D2E3FC;\n",
              "    }\n",
              "\n",
              "    [theme=dark] .colab-df-convert:hover {\n",
              "      background-color: #434B5C;\n",
              "      box-shadow: 0px 1px 3px 1px rgba(0, 0, 0, 0.15);\n",
              "      filter: drop-shadow(0px 1px 2px rgba(0, 0, 0, 0.3));\n",
              "      fill: #FFFFFF;\n",
              "    }\n",
              "  </style>\n",
              "\n",
              "      <script>\n",
              "        const buttonEl =\n",
              "          document.querySelector('#df-bb818547-a699-40df-88d4-68bf91e9e24b button.colab-df-convert');\n",
              "        buttonEl.style.display =\n",
              "          google.colab.kernel.accessAllowed ? 'block' : 'none';\n",
              "\n",
              "        async function convertToInteractive(key) {\n",
              "          const element = document.querySelector('#df-bb818547-a699-40df-88d4-68bf91e9e24b');\n",
              "          const dataTable =\n",
              "            await google.colab.kernel.invokeFunction('convertToInteractive',\n",
              "                                                     [key], {});\n",
              "          if (!dataTable) return;\n",
              "\n",
              "          const docLinkHtml = 'Like what you see? Visit the ' +\n",
              "            '<a target=\"_blank\" href=https://colab.research.google.com/notebooks/data_table.ipynb>data table notebook</a>'\n",
              "            + ' to learn more about interactive tables.';\n",
              "          element.innerHTML = '';\n",
              "          dataTable['output_type'] = 'display_data';\n",
              "          await google.colab.output.renderOutput(dataTable, element);\n",
              "          const docLink = document.createElement('div');\n",
              "          docLink.innerHTML = docLinkHtml;\n",
              "          element.appendChild(docLink);\n",
              "        }\n",
              "      </script>\n",
              "    </div>\n",
              "  </div>\n",
              "  "
            ]
          },
          "metadata": {},
          "execution_count": 64
        }
      ]
    },
    {
      "cell_type": "code",
      "source": [
        "mosquito['RESULT'] = mosquito['RESULT'].astype('category')\n",
        "mosquito['RESULT'] = mosquito['RESULT'].cat.codes"
      ],
      "metadata": {
        "id": "QucCke8UAj3n"
      },
      "execution_count": 65,
      "outputs": []
    },
    {
      "cell_type": "code",
      "source": [
        "x = mosquito['RESULT'].values\n",
        "scaler = StandardScaler()\n",
        "\n",
        "mosquito['RESULT'] = scaler.fit_transform(np.reshape(x,(-1,1)))\n",
        "mosquito['RESULT']"
      ],
      "metadata": {
        "colab": {
          "base_uri": "https://localhost:8080/"
        },
        "id": "UgyOGVEo3FC_",
        "outputId": "5a872bfb-8b8c-4021-f47b-96bca8d162ad"
      },
      "execution_count": 66,
      "outputs": [
        {
          "output_type": "execute_result",
          "data": {
            "text/plain": [
              "0        0.303554\n",
              "1        0.303554\n",
              "2       -3.294312\n",
              "3       -3.294312\n",
              "4        0.303554\n",
              "           ...   \n",
              "29484    0.303554\n",
              "29485    0.303554\n",
              "29486    0.303554\n",
              "29487    0.303554\n",
              "29488    0.303554\n",
              "Name: RESULT, Length: 29489, dtype: float64"
            ]
          },
          "metadata": {},
          "execution_count": 66
        }
      ]
    },
    {
      "cell_type": "code",
      "source": [
        "bins = np.linspace(mosquito['NUMBER OF MOSQUITOES'].min(),mosquito['NUMBER OF MOSQUITOES'].max(),6)\n",
        "\n",
        "labels = ['xs','s','m','l','xl']\n",
        "\n",
        "mosquito['NUMBER OF MOSQUITOES'] = pd.cut(mosquito['NUMBER OF MOSQUITOES'] , bins=bins, labels=labels, include_lowest=True)"
      ],
      "metadata": {
        "id": "RSQ7k7ZD3UfB"
      },
      "execution_count": 67,
      "outputs": []
    },
    {
      "cell_type": "code",
      "source": [
        "mosquito['NUMBER OF MOSQUITOES'].value_counts()"
      ],
      "metadata": {
        "colab": {
          "base_uri": "https://localhost:8080/"
        },
        "id": "FSe_xBft3vbW",
        "outputId": "31c645d2-722b-4e57-ff8c-ac2c13a80191"
      },
      "execution_count": 68,
      "outputs": [
        {
          "output_type": "execute_result",
          "data": {
            "text/plain": [
              "xs    22212\n",
              "s      3036\n",
              "l      2573\n",
              "m      1667\n",
              "xl        1\n",
              "Name: NUMBER OF MOSQUITOES, dtype: int64"
            ]
          },
          "metadata": {},
          "execution_count": 68
        }
      ]
    },
    {
      "cell_type": "code",
      "source": [
        "mosquito.LONGITUDE.replace(np.nan,'null',inplace=True)"
      ],
      "metadata": {
        "id": "wTDt3HxY38eB"
      },
      "execution_count": 69,
      "outputs": []
    },
    {
      "cell_type": "code",
      "source": [
        "mosquito['LONGITUDE'].isnull().sum()"
      ],
      "metadata": {
        "colab": {
          "base_uri": "https://localhost:8080/"
        },
        "id": "8t7wP2ce4Eoc",
        "outputId": "ede702eb-e273-438a-eeb9-d5977000f732"
      },
      "execution_count": 70,
      "outputs": [
        {
          "output_type": "execute_result",
          "data": {
            "text/plain": [
              "0"
            ]
          },
          "metadata": {},
          "execution_count": 70
        }
      ]
    },
    {
      "cell_type": "code",
      "source": [
        "mosquito['WEEK'].describe()"
      ],
      "metadata": {
        "colab": {
          "base_uri": "https://localhost:8080/"
        },
        "id": "aQdBV4kO4KoJ",
        "outputId": "d6be5bcc-5f4f-407c-b7e6-c028611b2b1f"
      },
      "execution_count": 71,
      "outputs": [
        {
          "output_type": "execute_result",
          "data": {
            "text/plain": [
              "count    29489.000000\n",
              "mean        31.073587\n",
              "std          4.533390\n",
              "min         20.000000\n",
              "25%         28.000000\n",
              "50%         31.000000\n",
              "75%         35.000000\n",
              "max         40.000000\n",
              "Name: WEEK, dtype: float64"
            ]
          },
          "metadata": {},
          "execution_count": 71
        }
      ]
    },
    {
      "cell_type": "code",
      "source": [
        "train_mosquitoset = mosquito.sample(frac=0.8, random_state=0)\n",
        "test_mosquitoset= mosquito.drop(train_mosquito.index)"
      ],
      "metadata": {
        "id": "oUXxrg8940PA"
      },
      "execution_count": 72,
      "outputs": []
    },
    {
      "cell_type": "code",
      "source": [
        "train, test = train_test_split(mosquito, test_size = 0.2)"
      ],
      "metadata": {
        "id": "4Xc7eSzD5Jdd"
      },
      "execution_count": 73,
      "outputs": []
    },
    {
      "cell_type": "code",
      "source": [
        "mosquito[['NUMBER OF MOSQUITOES','LOCATION','WEEK']].corr()"
      ],
      "metadata": {
        "colab": {
          "base_uri": "https://localhost:8080/",
          "height": 81
        },
        "id": "o_g3TBJ15Vya",
        "outputId": "08870207-b40e-4e1d-d572-b2de193cf1f1"
      },
      "execution_count": 75,
      "outputs": [
        {
          "output_type": "execute_result",
          "data": {
            "text/plain": [
              "      WEEK\n",
              "WEEK   1.0"
            ],
            "text/html": [
              "\n",
              "  <div id=\"df-eb0faeb8-1798-469c-a33e-cf0e0e2f936d\">\n",
              "    <div class=\"colab-df-container\">\n",
              "      <div>\n",
              "<style scoped>\n",
              "    .dataframe tbody tr th:only-of-type {\n",
              "        vertical-align: middle;\n",
              "    }\n",
              "\n",
              "    .dataframe tbody tr th {\n",
              "        vertical-align: top;\n",
              "    }\n",
              "\n",
              "    .dataframe thead th {\n",
              "        text-align: right;\n",
              "    }\n",
              "</style>\n",
              "<table border=\"1\" class=\"dataframe\">\n",
              "  <thead>\n",
              "    <tr style=\"text-align: right;\">\n",
              "      <th></th>\n",
              "      <th>WEEK</th>\n",
              "    </tr>\n",
              "  </thead>\n",
              "  <tbody>\n",
              "    <tr>\n",
              "      <th>WEEK</th>\n",
              "      <td>1.0</td>\n",
              "    </tr>\n",
              "  </tbody>\n",
              "</table>\n",
              "</div>\n",
              "      <button class=\"colab-df-convert\" onclick=\"convertToInteractive('df-eb0faeb8-1798-469c-a33e-cf0e0e2f936d')\"\n",
              "              title=\"Convert this dataframe to an interactive table.\"\n",
              "              style=\"display:none;\">\n",
              "        \n",
              "  <svg xmlns=\"http://www.w3.org/2000/svg\" height=\"24px\"viewBox=\"0 0 24 24\"\n",
              "       width=\"24px\">\n",
              "    <path d=\"M0 0h24v24H0V0z\" fill=\"none\"/>\n",
              "    <path d=\"M18.56 5.44l.94 2.06.94-2.06 2.06-.94-2.06-.94-.94-2.06-.94 2.06-2.06.94zm-11 1L8.5 8.5l.94-2.06 2.06-.94-2.06-.94L8.5 2.5l-.94 2.06-2.06.94zm10 10l.94 2.06.94-2.06 2.06-.94-2.06-.94-.94-2.06-.94 2.06-2.06.94z\"/><path d=\"M17.41 7.96l-1.37-1.37c-.4-.4-.92-.59-1.43-.59-.52 0-1.04.2-1.43.59L10.3 9.45l-7.72 7.72c-.78.78-.78 2.05 0 2.83L4 21.41c.39.39.9.59 1.41.59.51 0 1.02-.2 1.41-.59l7.78-7.78 2.81-2.81c.8-.78.8-2.07 0-2.86zM5.41 20L4 18.59l7.72-7.72 1.47 1.35L5.41 20z\"/>\n",
              "  </svg>\n",
              "      </button>\n",
              "      \n",
              "  <style>\n",
              "    .colab-df-container {\n",
              "      display:flex;\n",
              "      flex-wrap:wrap;\n",
              "      gap: 12px;\n",
              "    }\n",
              "\n",
              "    .colab-df-convert {\n",
              "      background-color: #E8F0FE;\n",
              "      border: none;\n",
              "      border-radius: 50%;\n",
              "      cursor: pointer;\n",
              "      display: none;\n",
              "      fill: #1967D2;\n",
              "      height: 32px;\n",
              "      padding: 0 0 0 0;\n",
              "      width: 32px;\n",
              "    }\n",
              "\n",
              "    .colab-df-convert:hover {\n",
              "      background-color: #E2EBFA;\n",
              "      box-shadow: 0px 1px 2px rgba(60, 64, 67, 0.3), 0px 1px 3px 1px rgba(60, 64, 67, 0.15);\n",
              "      fill: #174EA6;\n",
              "    }\n",
              "\n",
              "    [theme=dark] .colab-df-convert {\n",
              "      background-color: #3B4455;\n",
              "      fill: #D2E3FC;\n",
              "    }\n",
              "\n",
              "    [theme=dark] .colab-df-convert:hover {\n",
              "      background-color: #434B5C;\n",
              "      box-shadow: 0px 1px 3px 1px rgba(0, 0, 0, 0.15);\n",
              "      filter: drop-shadow(0px 1px 2px rgba(0, 0, 0, 0.3));\n",
              "      fill: #FFFFFF;\n",
              "    }\n",
              "  </style>\n",
              "\n",
              "      <script>\n",
              "        const buttonEl =\n",
              "          document.querySelector('#df-eb0faeb8-1798-469c-a33e-cf0e0e2f936d button.colab-df-convert');\n",
              "        buttonEl.style.display =\n",
              "          google.colab.kernel.accessAllowed ? 'block' : 'none';\n",
              "\n",
              "        async function convertToInteractive(key) {\n",
              "          const element = document.querySelector('#df-eb0faeb8-1798-469c-a33e-cf0e0e2f936d');\n",
              "          const dataTable =\n",
              "            await google.colab.kernel.invokeFunction('convertToInteractive',\n",
              "                                                     [key], {});\n",
              "          if (!dataTable) return;\n",
              "\n",
              "          const docLinkHtml = 'Like what you see? Visit the ' +\n",
              "            '<a target=\"_blank\" href=https://colab.research.google.com/notebooks/data_table.ipynb>data table notebook</a>'\n",
              "            + ' to learn more about interactive tables.';\n",
              "          element.innerHTML = '';\n",
              "          dataTable['output_type'] = 'display_data';\n",
              "          await google.colab.output.renderOutput(dataTable, element);\n",
              "          const docLink = document.createElement('div');\n",
              "          docLink.innerHTML = docLinkHtml;\n",
              "          element.appendChild(docLink);\n",
              "        }\n",
              "      </script>\n",
              "    </div>\n",
              "  </div>\n",
              "  "
            ]
          },
          "metadata": {},
          "execution_count": 75
        }
      ]
    },
    {
      "cell_type": "code",
      "source": [
        "mosquito = mosquito[['WEEK', 'TRAP_TYPE','NUMBER OF MOSQUITOES', 'RESULT','SPECIES','LOCATION']]\n",
        "\n",
        "mosquito['TRAP_TYPE'] = mosquito['TRAP_TYPE'].astype('category')\n",
        "mosquito['TRAP_TYPE'] = mosquito['TRAP_TYPE'].cat.codes\n",
        "\n",
        "mosquito['SPECIES'] = mosquito['SPECIES'].astype('category')\n",
        "mosquito['SPECIES'] = mosquito['SPECIES'].cat.codes\n",
        "\n",
        "mosquito['LOCATION'] = mosquito['LOCATION'].astype('category')\n",
        "mosquito['LOCATION'] = mosquito['LOCATION'].cat.codes"
      ],
      "metadata": {
        "id": "X76KijEI5znC"
      },
      "execution_count": 76,
      "outputs": []
    },
    {
      "cell_type": "code",
      "source": [
        "train_mosquito = mosquito.sample(frac=0.8, random_state=0)\n",
        "test_mosquito = mosquito.drop(train_mosquito.index)\n",
        "\n",
        "# Splitting Features from Labels\n",
        "train_features = train_mosquito.copy()\n",
        "test_features = test_mosquito.copy()\n",
        "\n",
        "train_labels = train_features.pop('NUMBER OF MOSQUITOES')\n",
        "test_labels = test_features.pop('NUMBER OF MOSQUITOES')\n"
      ],
      "metadata": {
        "id": "Lw929L1Q88PU"
      },
      "execution_count": 77,
      "outputs": []
    },
    {
      "cell_type": "code",
      "source": [
        "train_labels1 = pd.get_dummies(train_labels, columns=['NUMBER OF MOSQUITOES'], prefix='', prefix_sep='')\n",
        "normalizer = preprocessing.Normalization(axis=-1)\n",
        "normalizer.adapt(np.array(train_features))"
      ],
      "metadata": {
        "id": "0P2Hqxlw9wI0"
      },
      "execution_count": 78,
      "outputs": []
    },
    {
      "cell_type": "code",
      "source": [
        "test_labels1 = pd.get_dummies(test_labels,columns=['NUMBER OF MOSQUITOES'],prefix='', prefix_sep='')\n",
        "normalizer.adapt(np.array(train_features))"
      ],
      "metadata": {
        "id": "UnZ3regX97dI"
      },
      "execution_count": 79,
      "outputs": []
    },
    {
      "cell_type": "code",
      "source": [
        "model = Sequential(normalizer)\n",
        "model.add(Dense(12, input_dim=6, activation='relu'))\n",
        "model.add(Dense(8, activation='relu'))\n",
        "model.add(Dense(5, activation='softmax'))\n",
        "model.summary()"
      ],
      "metadata": {
        "colab": {
          "base_uri": "https://localhost:8080/"
        },
        "id": "QZhf2J-w-Anp",
        "outputId": "89b60bb6-e962-46cb-ead1-67f7e95cf51d"
      },
      "execution_count": 80,
      "outputs": [
        {
          "output_type": "stream",
          "name": "stdout",
          "text": [
            "Model: \"sequential_1\"\n",
            "_________________________________________________________________\n",
            " Layer (type)                Output Shape              Param #   \n",
            "=================================================================\n",
            " normalization_1 (Normalizat  (None, 5)                11        \n",
            " ion)                                                            \n",
            "                                                                 \n",
            " dense_3 (Dense)             (None, 12)                72        \n",
            "                                                                 \n",
            " dense_4 (Dense)             (None, 8)                 104       \n",
            "                                                                 \n",
            " dense_5 (Dense)             (None, 5)                 45        \n",
            "                                                                 \n",
            "=================================================================\n",
            "Total params: 232\n",
            "Trainable params: 221\n",
            "Non-trainable params: 11\n",
            "_________________________________________________________________\n"
          ]
        }
      ]
    },
    {
      "cell_type": "code",
      "source": [
        "model.compile(loss='categorical_crossentropy', optimizer='adam', metrics=['accuracy'])"
      ],
      "metadata": {
        "id": "uvqpA3UW-IGq"
      },
      "execution_count": 81,
      "outputs": []
    },
    {
      "cell_type": "code",
      "source": [
        "%%time\n",
        "model.fit(train_features, train_labels1, epochs=150, batch_size=10)"
      ],
      "metadata": {
        "colab": {
          "base_uri": "https://localhost:8080/"
        },
        "id": "CslbLeMH-MkX",
        "outputId": "16515a98-1e6d-4e07-b53e-a3efb8d95723"
      },
      "execution_count": 82,
      "outputs": [
        {
          "output_type": "stream",
          "name": "stdout",
          "text": [
            "Epoch 1/150\n",
            "2360/2360 [==============================] - 5s 2ms/step - loss: 0.7899 - accuracy: 0.7473\n",
            "Epoch 2/150\n",
            "2360/2360 [==============================] - 4s 2ms/step - loss: 0.7176 - accuracy: 0.7709\n",
            "Epoch 3/150\n",
            "2360/2360 [==============================] - 4s 2ms/step - loss: 0.7093 - accuracy: 0.7720\n",
            "Epoch 4/150\n",
            "2360/2360 [==============================] - 4s 2ms/step - loss: 0.7060 - accuracy: 0.7734\n",
            "Epoch 5/150\n",
            "2360/2360 [==============================] - 4s 2ms/step - loss: 0.7045 - accuracy: 0.7737\n",
            "Epoch 6/150\n",
            "2360/2360 [==============================] - 4s 2ms/step - loss: 0.7037 - accuracy: 0.7742\n",
            "Epoch 7/150\n",
            "2360/2360 [==============================] - 4s 2ms/step - loss: 0.7025 - accuracy: 0.7737\n",
            "Epoch 8/150\n",
            "2360/2360 [==============================] - 4s 2ms/step - loss: 0.7021 - accuracy: 0.7738\n",
            "Epoch 9/150\n",
            "2360/2360 [==============================] - 4s 2ms/step - loss: 0.7011 - accuracy: 0.7743\n",
            "Epoch 10/150\n",
            "2360/2360 [==============================] - 4s 2ms/step - loss: 0.7009 - accuracy: 0.7743\n",
            "Epoch 11/150\n",
            "2360/2360 [==============================] - 4s 2ms/step - loss: 0.7003 - accuracy: 0.7739\n",
            "Epoch 12/150\n",
            "2360/2360 [==============================] - 4s 2ms/step - loss: 0.7005 - accuracy: 0.7733\n",
            "Epoch 13/150\n",
            "2360/2360 [==============================] - 4s 2ms/step - loss: 0.6998 - accuracy: 0.7744\n",
            "Epoch 14/150\n",
            "2360/2360 [==============================] - 4s 2ms/step - loss: 0.6999 - accuracy: 0.7741\n",
            "Epoch 15/150\n",
            "2360/2360 [==============================] - 4s 2ms/step - loss: 0.6993 - accuracy: 0.7734\n",
            "Epoch 16/150\n",
            "2360/2360 [==============================] - 4s 2ms/step - loss: 0.6995 - accuracy: 0.7736\n",
            "Epoch 17/150\n",
            "2360/2360 [==============================] - 4s 2ms/step - loss: 0.6992 - accuracy: 0.7733\n",
            "Epoch 18/150\n",
            "2360/2360 [==============================] - 4s 2ms/step - loss: 0.6986 - accuracy: 0.7747\n",
            "Epoch 19/150\n",
            "2360/2360 [==============================] - 4s 2ms/step - loss: 0.6979 - accuracy: 0.7741\n",
            "Epoch 20/150\n",
            "2360/2360 [==============================] - 5s 2ms/step - loss: 0.6987 - accuracy: 0.7738\n",
            "Epoch 21/150\n",
            "2360/2360 [==============================] - 5s 2ms/step - loss: 0.6985 - accuracy: 0.7742\n",
            "Epoch 22/150\n",
            "2360/2360 [==============================] - 4s 2ms/step - loss: 0.6979 - accuracy: 0.7741\n",
            "Epoch 23/150\n",
            "2360/2360 [==============================] - 4s 2ms/step - loss: 0.6978 - accuracy: 0.7737\n",
            "Epoch 24/150\n",
            "2360/2360 [==============================] - 4s 2ms/step - loss: 0.6972 - accuracy: 0.7738\n",
            "Epoch 25/150\n",
            "2360/2360 [==============================] - 4s 2ms/step - loss: 0.6979 - accuracy: 0.7750\n",
            "Epoch 26/150\n",
            "2360/2360 [==============================] - 4s 2ms/step - loss: 0.6970 - accuracy: 0.7739\n",
            "Epoch 27/150\n",
            "2360/2360 [==============================] - 4s 2ms/step - loss: 0.6970 - accuracy: 0.7750\n",
            "Epoch 28/150\n",
            "2360/2360 [==============================] - 4s 2ms/step - loss: 0.6967 - accuracy: 0.7749\n",
            "Epoch 29/150\n",
            "2360/2360 [==============================] - 4s 2ms/step - loss: 0.6972 - accuracy: 0.7737\n",
            "Epoch 30/150\n",
            "2360/2360 [==============================] - 4s 2ms/step - loss: 0.6968 - accuracy: 0.7745\n",
            "Epoch 31/150\n",
            "2360/2360 [==============================] - 4s 2ms/step - loss: 0.6964 - accuracy: 0.7746\n",
            "Epoch 32/150\n",
            "2360/2360 [==============================] - 4s 2ms/step - loss: 0.6958 - accuracy: 0.7750\n",
            "Epoch 33/150\n",
            "2360/2360 [==============================] - 4s 2ms/step - loss: 0.6966 - accuracy: 0.7747\n",
            "Epoch 34/150\n",
            "2360/2360 [==============================] - 4s 2ms/step - loss: 0.6961 - accuracy: 0.7742\n",
            "Epoch 35/150\n",
            "2360/2360 [==============================] - 4s 2ms/step - loss: 0.6959 - accuracy: 0.7741\n",
            "Epoch 36/150\n",
            "2360/2360 [==============================] - 4s 2ms/step - loss: 0.6959 - accuracy: 0.7750\n",
            "Epoch 37/150\n",
            "2360/2360 [==============================] - 4s 2ms/step - loss: 0.6957 - accuracy: 0.7742\n",
            "Epoch 38/150\n",
            "2360/2360 [==============================] - 4s 2ms/step - loss: 0.6957 - accuracy: 0.7737\n",
            "Epoch 39/150\n",
            "2360/2360 [==============================] - 5s 2ms/step - loss: 0.6958 - accuracy: 0.7747\n",
            "Epoch 40/150\n",
            "2360/2360 [==============================] - 5s 2ms/step - loss: 0.6954 - accuracy: 0.7751\n",
            "Epoch 41/150\n",
            "2360/2360 [==============================] - 4s 2ms/step - loss: 0.6958 - accuracy: 0.7748\n",
            "Epoch 42/150\n",
            "2360/2360 [==============================] - 4s 2ms/step - loss: 0.6953 - accuracy: 0.7742\n",
            "Epoch 43/150\n",
            "2360/2360 [==============================] - 4s 2ms/step - loss: 0.6956 - accuracy: 0.7748\n",
            "Epoch 44/150\n",
            "2360/2360 [==============================] - 4s 2ms/step - loss: 0.6952 - accuracy: 0.7751\n",
            "Epoch 45/150\n",
            "2360/2360 [==============================] - 4s 2ms/step - loss: 0.6951 - accuracy: 0.7746\n",
            "Epoch 46/150\n",
            "2360/2360 [==============================] - 4s 2ms/step - loss: 0.6953 - accuracy: 0.7750\n",
            "Epoch 47/150\n",
            "2360/2360 [==============================] - 4s 2ms/step - loss: 0.6950 - accuracy: 0.7748\n",
            "Epoch 48/150\n",
            "2360/2360 [==============================] - 4s 2ms/step - loss: 0.6951 - accuracy: 0.7744\n",
            "Epoch 49/150\n",
            "2360/2360 [==============================] - 4s 2ms/step - loss: 0.6950 - accuracy: 0.7753\n",
            "Epoch 50/150\n",
            "2360/2360 [==============================] - 4s 2ms/step - loss: 0.6950 - accuracy: 0.7752\n",
            "Epoch 51/150\n",
            "2360/2360 [==============================] - 4s 2ms/step - loss: 0.6950 - accuracy: 0.7744\n",
            "Epoch 52/150\n",
            "2360/2360 [==============================] - 4s 2ms/step - loss: 0.6947 - accuracy: 0.7751\n",
            "Epoch 53/150\n",
            "2360/2360 [==============================] - 4s 2ms/step - loss: 0.6950 - accuracy: 0.7750\n",
            "Epoch 54/150\n",
            "2360/2360 [==============================] - 4s 2ms/step - loss: 0.6946 - accuracy: 0.7755\n",
            "Epoch 55/150\n",
            "2360/2360 [==============================] - 4s 2ms/step - loss: 0.6947 - accuracy: 0.7747\n",
            "Epoch 56/150\n",
            "2360/2360 [==============================] - 4s 2ms/step - loss: 0.6947 - accuracy: 0.7747\n",
            "Epoch 57/150\n",
            "2360/2360 [==============================] - 4s 2ms/step - loss: 0.6946 - accuracy: 0.7747\n",
            "Epoch 58/150\n",
            "2360/2360 [==============================] - 4s 2ms/step - loss: 0.6944 - accuracy: 0.7748\n",
            "Epoch 59/150\n",
            "2360/2360 [==============================] - 4s 2ms/step - loss: 0.6949 - accuracy: 0.7747\n",
            "Epoch 60/150\n",
            "2360/2360 [==============================] - 4s 2ms/step - loss: 0.6944 - accuracy: 0.7751\n",
            "Epoch 61/150\n",
            "2360/2360 [==============================] - 4s 2ms/step - loss: 0.6945 - accuracy: 0.7749\n",
            "Epoch 62/150\n",
            "2360/2360 [==============================] - 4s 2ms/step - loss: 0.6935 - accuracy: 0.7754\n",
            "Epoch 63/150\n",
            "2360/2360 [==============================] - 4s 2ms/step - loss: 0.6941 - accuracy: 0.7749\n",
            "Epoch 64/150\n",
            "2360/2360 [==============================] - 4s 2ms/step - loss: 0.6943 - accuracy: 0.7747\n",
            "Epoch 65/150\n",
            "2360/2360 [==============================] - 4s 2ms/step - loss: 0.6937 - accuracy: 0.7758\n",
            "Epoch 66/150\n",
            "2360/2360 [==============================] - 4s 2ms/step - loss: 0.6939 - accuracy: 0.7747\n",
            "Epoch 67/150\n",
            "2360/2360 [==============================] - 4s 2ms/step - loss: 0.6938 - accuracy: 0.7753\n",
            "Epoch 68/150\n",
            "2360/2360 [==============================] - 4s 2ms/step - loss: 0.6938 - accuracy: 0.7751\n",
            "Epoch 69/150\n",
            "2360/2360 [==============================] - 4s 2ms/step - loss: 0.6940 - accuracy: 0.7750\n",
            "Epoch 70/150\n",
            "2360/2360 [==============================] - 4s 2ms/step - loss: 0.6935 - accuracy: 0.7752\n",
            "Epoch 71/150\n",
            "2360/2360 [==============================] - 4s 2ms/step - loss: 0.6930 - accuracy: 0.7745\n",
            "Epoch 72/150\n",
            "2360/2360 [==============================] - 4s 2ms/step - loss: 0.6938 - accuracy: 0.7749\n",
            "Epoch 73/150\n",
            "2360/2360 [==============================] - 4s 2ms/step - loss: 0.6935 - accuracy: 0.7750\n",
            "Epoch 74/150\n",
            "2360/2360 [==============================] - 4s 2ms/step - loss: 0.6938 - accuracy: 0.7752\n",
            "Epoch 75/150\n",
            "2360/2360 [==============================] - 4s 2ms/step - loss: 0.6932 - accuracy: 0.7754\n",
            "Epoch 76/150\n",
            "2360/2360 [==============================] - 4s 2ms/step - loss: 0.6934 - accuracy: 0.7751\n",
            "Epoch 77/150\n",
            "2360/2360 [==============================] - 4s 2ms/step - loss: 0.6936 - accuracy: 0.7745\n",
            "Epoch 78/150\n",
            "2360/2360 [==============================] - 4s 2ms/step - loss: 0.6938 - accuracy: 0.7749\n",
            "Epoch 79/150\n",
            "2360/2360 [==============================] - 5s 2ms/step - loss: 0.6934 - accuracy: 0.7745\n",
            "Epoch 80/150\n",
            "2360/2360 [==============================] - 4s 2ms/step - loss: 0.6935 - accuracy: 0.7749\n",
            "Epoch 81/150\n",
            "2360/2360 [==============================] - 4s 2ms/step - loss: 0.6935 - accuracy: 0.7750\n",
            "Epoch 82/150\n",
            "2360/2360 [==============================] - 4s 2ms/step - loss: 0.6936 - accuracy: 0.7742\n",
            "Epoch 83/150\n",
            "2360/2360 [==============================] - 4s 2ms/step - loss: 0.6934 - accuracy: 0.7751\n",
            "Epoch 84/150\n",
            "2360/2360 [==============================] - 4s 2ms/step - loss: 0.6930 - accuracy: 0.7749\n",
            "Epoch 85/150\n",
            "2360/2360 [==============================] - 4s 2ms/step - loss: 0.6930 - accuracy: 0.7757\n",
            "Epoch 86/150\n",
            "2360/2360 [==============================] - 4s 2ms/step - loss: 0.6932 - accuracy: 0.7757\n",
            "Epoch 87/150\n",
            "2360/2360 [==============================] - 4s 2ms/step - loss: 0.6932 - accuracy: 0.7755\n",
            "Epoch 88/150\n",
            "2360/2360 [==============================] - 4s 2ms/step - loss: 0.6932 - accuracy: 0.7745\n",
            "Epoch 89/150\n",
            "2360/2360 [==============================] - 4s 2ms/step - loss: 0.6933 - accuracy: 0.7751\n",
            "Epoch 90/150\n",
            "2360/2360 [==============================] - 4s 2ms/step - loss: 0.6932 - accuracy: 0.7750\n",
            "Epoch 91/150\n",
            "2360/2360 [==============================] - 4s 2ms/step - loss: 0.6925 - accuracy: 0.7752\n",
            "Epoch 92/150\n",
            "2360/2360 [==============================] - 4s 2ms/step - loss: 0.6934 - accuracy: 0.7750\n",
            "Epoch 93/150\n",
            "2360/2360 [==============================] - 4s 2ms/step - loss: 0.6930 - accuracy: 0.7756\n",
            "Epoch 94/150\n",
            "2360/2360 [==============================] - 4s 2ms/step - loss: 0.6930 - accuracy: 0.7753\n",
            "Epoch 95/150\n",
            "2360/2360 [==============================] - 4s 2ms/step - loss: 0.6927 - accuracy: 0.7749\n",
            "Epoch 96/150\n",
            "2360/2360 [==============================] - 4s 2ms/step - loss: 0.6930 - accuracy: 0.7747\n",
            "Epoch 97/150\n",
            "2360/2360 [==============================] - 4s 2ms/step - loss: 0.6929 - accuracy: 0.7755\n",
            "Epoch 98/150\n",
            "2360/2360 [==============================] - 5s 2ms/step - loss: 0.6933 - accuracy: 0.7754\n",
            "Epoch 99/150\n",
            "2360/2360 [==============================] - 4s 2ms/step - loss: 0.6927 - accuracy: 0.7750\n",
            "Epoch 100/150\n",
            "2360/2360 [==============================] - 4s 2ms/step - loss: 0.6931 - accuracy: 0.7751\n",
            "Epoch 101/150\n",
            "2360/2360 [==============================] - 4s 2ms/step - loss: 0.6923 - accuracy: 0.7750\n",
            "Epoch 102/150\n",
            "2360/2360 [==============================] - 4s 2ms/step - loss: 0.6929 - accuracy: 0.7752\n",
            "Epoch 103/150\n",
            "2360/2360 [==============================] - 4s 2ms/step - loss: 0.6926 - accuracy: 0.7753\n",
            "Epoch 104/150\n",
            "2360/2360 [==============================] - 4s 2ms/step - loss: 0.6928 - accuracy: 0.7747\n",
            "Epoch 105/150\n",
            "2360/2360 [==============================] - 4s 2ms/step - loss: 0.6926 - accuracy: 0.7749\n",
            "Epoch 106/150\n",
            "2360/2360 [==============================] - 4s 2ms/step - loss: 0.6921 - accuracy: 0.7751\n",
            "Epoch 107/150\n",
            "2360/2360 [==============================] - 4s 2ms/step - loss: 0.6925 - accuracy: 0.7750\n",
            "Epoch 108/150\n",
            "2360/2360 [==============================] - 4s 2ms/step - loss: 0.6925 - accuracy: 0.7755\n",
            "Epoch 109/150\n",
            "2360/2360 [==============================] - 4s 2ms/step - loss: 0.6928 - accuracy: 0.7745\n",
            "Epoch 110/150\n",
            "2360/2360 [==============================] - 4s 2ms/step - loss: 0.6928 - accuracy: 0.7749\n",
            "Epoch 111/150\n",
            "2360/2360 [==============================] - 4s 2ms/step - loss: 0.6925 - accuracy: 0.7747\n",
            "Epoch 112/150\n",
            "2360/2360 [==============================] - 4s 2ms/step - loss: 0.6930 - accuracy: 0.7750\n",
            "Epoch 113/150\n",
            "2360/2360 [==============================] - 4s 2ms/step - loss: 0.6921 - accuracy: 0.7752\n",
            "Epoch 114/150\n",
            "2360/2360 [==============================] - 4s 2ms/step - loss: 0.6924 - accuracy: 0.7747\n",
            "Epoch 115/150\n",
            "2360/2360 [==============================] - 4s 2ms/step - loss: 0.6927 - accuracy: 0.7756\n",
            "Epoch 116/150\n",
            "2360/2360 [==============================] - 4s 2ms/step - loss: 0.6926 - accuracy: 0.7750\n",
            "Epoch 117/150\n",
            "2360/2360 [==============================] - 5s 2ms/step - loss: 0.6928 - accuracy: 0.7751\n",
            "Epoch 118/150\n",
            "2360/2360 [==============================] - 4s 2ms/step - loss: 0.6923 - accuracy: 0.7755\n",
            "Epoch 119/150\n",
            "2360/2360 [==============================] - 4s 2ms/step - loss: 0.6923 - accuracy: 0.7750\n",
            "Epoch 120/150\n",
            "2360/2360 [==============================] - 4s 2ms/step - loss: 0.6925 - accuracy: 0.7750\n",
            "Epoch 121/150\n",
            "2360/2360 [==============================] - 4s 2ms/step - loss: 0.6927 - accuracy: 0.7744\n",
            "Epoch 122/150\n",
            "2360/2360 [==============================] - 4s 2ms/step - loss: 0.6922 - accuracy: 0.7753\n",
            "Epoch 123/150\n",
            "2360/2360 [==============================] - 4s 2ms/step - loss: 0.6923 - accuracy: 0.7749\n",
            "Epoch 124/150\n",
            "2360/2360 [==============================] - 4s 2ms/step - loss: 0.6923 - accuracy: 0.7760\n",
            "Epoch 125/150\n",
            "2360/2360 [==============================] - 4s 2ms/step - loss: 0.6919 - accuracy: 0.7753\n",
            "Epoch 126/150\n",
            "2360/2360 [==============================] - 4s 2ms/step - loss: 0.6924 - accuracy: 0.7753\n",
            "Epoch 127/150\n",
            "2360/2360 [==============================] - 4s 2ms/step - loss: 0.6926 - accuracy: 0.7750\n",
            "Epoch 128/150\n",
            "2360/2360 [==============================] - 4s 2ms/step - loss: 0.6924 - accuracy: 0.7753\n",
            "Epoch 129/150\n",
            "2360/2360 [==============================] - 4s 2ms/step - loss: 0.6923 - accuracy: 0.7760\n",
            "Epoch 130/150\n",
            "2360/2360 [==============================] - 4s 2ms/step - loss: 0.6925 - accuracy: 0.7753\n",
            "Epoch 131/150\n",
            "2360/2360 [==============================] - 4s 2ms/step - loss: 0.6922 - accuracy: 0.7753\n",
            "Epoch 132/150\n",
            "2360/2360 [==============================] - 4s 2ms/step - loss: 0.6922 - accuracy: 0.7745\n",
            "Epoch 133/150\n",
            "2360/2360 [==============================] - 4s 2ms/step - loss: 0.6921 - accuracy: 0.7753\n",
            "Epoch 134/150\n",
            "2360/2360 [==============================] - 4s 2ms/step - loss: 0.6922 - accuracy: 0.7747\n",
            "Epoch 135/150\n",
            "2360/2360 [==============================] - 4s 2ms/step - loss: 0.6922 - accuracy: 0.7750\n",
            "Epoch 136/150\n",
            "2360/2360 [==============================] - 5s 2ms/step - loss: 0.6925 - accuracy: 0.7761\n",
            "Epoch 137/150\n",
            "2360/2360 [==============================] - 4s 2ms/step - loss: 0.6919 - accuracy: 0.7750\n",
            "Epoch 138/150\n",
            "2360/2360 [==============================] - 4s 2ms/step - loss: 0.6921 - accuracy: 0.7755\n",
            "Epoch 139/150\n",
            "2360/2360 [==============================] - 4s 2ms/step - loss: 0.6921 - accuracy: 0.7752\n",
            "Epoch 140/150\n",
            "2360/2360 [==============================] - 4s 2ms/step - loss: 0.6921 - accuracy: 0.7754\n",
            "Epoch 141/150\n",
            "2360/2360 [==============================] - 4s 2ms/step - loss: 0.6919 - accuracy: 0.7754\n",
            "Epoch 142/150\n",
            "2360/2360 [==============================] - 4s 2ms/step - loss: 0.6923 - accuracy: 0.7751\n",
            "Epoch 143/150\n",
            "2360/2360 [==============================] - 4s 2ms/step - loss: 0.6927 - accuracy: 0.7751\n",
            "Epoch 144/150\n",
            "2360/2360 [==============================] - 4s 2ms/step - loss: 0.6918 - accuracy: 0.7754\n",
            "Epoch 145/150\n",
            "2360/2360 [==============================] - 4s 2ms/step - loss: 0.6921 - accuracy: 0.7747\n",
            "Epoch 146/150\n",
            "2360/2360 [==============================] - 4s 2ms/step - loss: 0.6918 - accuracy: 0.7751\n",
            "Epoch 147/150\n",
            "2360/2360 [==============================] - 4s 2ms/step - loss: 0.6919 - accuracy: 0.7757\n",
            "Epoch 148/150\n",
            "2360/2360 [==============================] - 4s 2ms/step - loss: 0.6922 - accuracy: 0.7756\n",
            "Epoch 149/150\n",
            "2360/2360 [==============================] - 4s 2ms/step - loss: 0.6919 - accuracy: 0.7757\n",
            "Epoch 150/150\n",
            "2360/2360 [==============================] - 4s 2ms/step - loss: 0.6922 - accuracy: 0.7753\n",
            "CPU times: user 10min 45s, sys: 40.7 s, total: 11min 26s\n",
            "Wall time: 10min 22s\n"
          ]
        },
        {
          "output_type": "execute_result",
          "data": {
            "text/plain": [
              "<keras.callbacks.History at 0x7f628b160c10>"
            ]
          },
          "metadata": {},
          "execution_count": 82
        }
      ]
    },
    {
      "cell_type": "code",
      "source": [
        "accuracy = model.evaluate(test_features, test_labels1)\n",
        "print('Accuracy: %.2f' % (accuracy[1]*100))"
      ],
      "metadata": {
        "colab": {
          "base_uri": "https://localhost:8080/"
        },
        "id": "olYwFa-hA5Me",
        "outputId": "d7572b1a-f282-4443-aa74-e2712f5ade27"
      },
      "execution_count": 83,
      "outputs": [
        {
          "output_type": "stream",
          "name": "stdout",
          "text": [
            "185/185 [==============================] - 1s 2ms/step - loss: 0.6934 - accuracy: 0.7757\n",
            "Accuracy: 77.57\n"
          ]
        }
      ]
    },
    {
      "cell_type": "code",
      "source": [
        "y_predictions = model.predict(test_features)"
      ],
      "metadata": {
        "id": "Bh-5oX1LBCLp"
      },
      "execution_count": 84,
      "outputs": []
    },
    {
      "cell_type": "code",
      "source": [
        "z = confusion_matrix(np.argmax(np.array(test_labels1),axis=1),np.argmax(y_predictions,axis=1))"
      ],
      "metadata": {
        "id": "JiqM0kXpEU3_"
      },
      "execution_count": 86,
      "outputs": []
    },
    {
      "cell_type": "code",
      "source": [
        "sns.heatmap(z, annot=True, fmt='d')"
      ],
      "metadata": {
        "colab": {
          "base_uri": "https://localhost:8080/",
          "height": 282
        },
        "id": "Lt7WfIOqEwR_",
        "outputId": "e9e0c3cb-ef9e-4c3b-d91a-da10c7930b3e"
      },
      "execution_count": 87,
      "outputs": [
        {
          "output_type": "execute_result",
          "data": {
            "text/plain": [
              "<matplotlib.axes._subplots.AxesSubplot at 0x7f628aff2fd0>"
            ]
          },
          "metadata": {},
          "execution_count": 87
        },
        {
          "output_type": "display_data",
          "data": {
            "text/plain": [
              "<Figure size 432x288 with 2 Axes>"
            ],
            "image/png": "[encoded data removed]"
          },
          "metadata": {
            "needs_background": "light"
          }
        }
      ]
    },
    {
      "cell_type": "code",
      "source": [
        "print(classification_report(np.argmax(np.array(test_labels1),axis=1),np.argmax(y_predictions,axis=1)))"
      ],
      "metadata": {
        "colab": {
          "base_uri": "https://localhost:8080/"
        },
        "id": "XhcpcLeOE7UI",
        "outputId": "31d97119-6f7b-4b42-91ef-66e5b86d2bcb"
      },
      "execution_count": 88,
      "outputs": [
        {
          "output_type": "stream",
          "name": "stdout",
          "text": [
            "              precision    recall  f1-score   support\n",
            "\n",
            "           0       0.79      0.99      0.88      4446\n",
            "           1       0.00      0.00      0.00       602\n",
            "           2       0.00      0.00      0.00       325\n",
            "           3       0.57      0.37      0.45       525\n",
            "\n",
            "    accuracy                           0.78      5898\n",
            "   macro avg       0.34      0.34      0.33      5898\n",
            "weighted avg       0.65      0.78      0.70      5898\n",
            "\n"
          ]
        }
      ]
    },
    {
      "cell_type": "code",
      "source": [
        "from sklearn.cluster import KMeans"
      ],
      "metadata": {
        "id": "LIzkncceFOa3"
      },
      "execution_count": 89,
      "outputs": []
    },
    {
      "cell_type": "code",
      "source": [
        "def elbow_plot(mosquito, maxK=10, seed_centroids=None):\n",
        "    \"\"\"\n",
        "        parameters:\n",
        "        - mosquito: pandas mosquitoFrame (mosquito to be fitted)\n",
        "        - maxK (default = 10): integer (maximum number of clusters with which to run k-means)\n",
        "        - seed_centroids (default = None ): float (initial value of centroids for k-means)\n",
        "    \"\"\"\n",
        "    sse = {}\n",
        "    for k in range(1, maxK):\n",
        "        print(\"k: \", k)\n",
        "        if seed_centroids is not None:\n",
        "            seeds = seed_centroids.head(k)\n",
        "            kmeans = KMeans(n_clusters=k, max_iter=500, n_init=100, random_state=0, init=np.reshape(seeds, (k,1))).fit(mosquito)\n",
        "            mosquito[\"clusters\"] = kmeans.labels_\n",
        "        else:\n",
        "            kmeans = KMeans(n_clusters=k, max_iter=300, n_init=100, random_state=0).fit(mosquito)\n",
        "            mosquito[\"clusters\"] = kmeans.labels_\n",
        "        # Inertia: Sum of distances of samples to their closest cluster center\n",
        "        sse[k] = kmeans.inertia_\n",
        "    plt.figure()\n",
        "    plt.plot(list(sse.keys()), list(sse.values()))\n",
        "    plt.show()\n",
        "    return"
      ],
      "metadata": {
        "id": "fuxCGBgFFTt7"
      },
      "execution_count": 90,
      "outputs": []
    },
    {
      "cell_type": "code",
      "source": [
        "df = train_features.append(test_features)\n",
        "elbow_plot(df,maxK=10)"
      ],
      "metadata": {
        "colab": {
          "base_uri": "https://localhost:8080/",
          "height": 432
        },
        "id": "BLbmbOiBFzzI",
        "outputId": "2c9b5973-05a1-472e-db75-61ca265f97e4"
      },
      "execution_count": 91,
      "outputs": [
        {
          "output_type": "stream",
          "name": "stdout",
          "text": [
            "k:  1\n",
            "k:  2\n",
            "k:  3\n",
            "k:  4\n",
            "k:  5\n",
            "k:  6\n",
            "k:  7\n",
            "k:  8\n",
            "k:  9\n"
          ]
        },
        {
          "output_type": "display_data",
          "data": {
            "text/plain": [
              "<Figure size 432x288 with 1 Axes>"
            ],
            "image/png": "[encoded data removed]"
          },
          "metadata": {
            "needs_background": "light"
          }
        }
      ]
    },
    {
      "cell_type": "code",
      "source": [
        "KMeans(n_clusters=4, ).fit(train_features.append(test_features))"
      ],
      "metadata": {
        "colab": {
          "base_uri": "https://localhost:8080/"
        },
        "id": "8TUXKwA0GRcI",
        "outputId": "e95fef02-7d4a-4dc4-c302-9141da491f07"
      },
      "execution_count": 92,
      "outputs": [
        {
          "output_type": "execute_result",
          "data": {
            "text/plain": [
              "KMeans(n_clusters=4)"
            ]
          },
          "metadata": {},
          "execution_count": 92
        }
      ]
    }
  ]
}